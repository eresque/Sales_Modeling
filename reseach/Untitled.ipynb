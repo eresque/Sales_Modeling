{
 "cells": [
  {
   "cell_type": "markdown",
   "id": "532daa67-7405-4528-8e40-4a61ff2d51b0",
   "metadata": {},
   "source": [
    "---\n",
    "# Import dependecies"
   ]
  },
  {
   "cell_type": "code",
   "execution_count": 1,
   "id": "b61a7f41-0678-42fa-ac44-698d86360eef",
   "metadata": {
    "tags": []
   },
   "outputs": [],
   "source": [
    "import pandas as pd"
   ]
  },
  {
   "cell_type": "markdown",
   "id": "4b8d78c5-f2f0-4b0d-af32-bf8a15e3a41a",
   "metadata": {},
   "source": [
    "---\n",
    "# Work with data"
   ]
  },
  {
   "cell_type": "markdown",
   "id": "b8ffa2ff-5e20-48f0-b8b5-7198f0fee599",
   "metadata": {},
   "source": [
    "## Preprocess data"
   ]
  },
  {
   "cell_type": "code",
   "execution_count": 2,
   "id": "db103507-eeb1-4271-9bca-b60695c83d7f",
   "metadata": {
    "tags": []
   },
   "outputs": [],
   "source": [
    "df = pd.read_excel(\"data/train.xlsx\", skiprows=5)"
   ]
  },
  {
   "cell_type": "code",
   "execution_count": 3,
   "id": "98a1da0e-c2b6-4fd9-9002-6cdcda1ef3b7",
   "metadata": {
    "tags": []
   },
   "outputs": [
    {
     "data": {
      "text/plain": [
       "(314, 148)"
      ]
     },
     "execution_count": 3,
     "metadata": {},
     "output_type": "execute_result"
    }
   ],
   "source": [
    "df.shape"
   ]
  },
  {
   "cell_type": "code",
   "execution_count": 9,
   "id": "bc2a7ac0-af24-445b-9ddc-06e6599d8854",
   "metadata": {
    "tags": []
   },
   "outputs": [
    {
     "data": {
      "text/html": [
       "<div>\n",
       "<style scoped>\n",
       "    .dataframe tbody tr th:only-of-type {\n",
       "        vertical-align: middle;\n",
       "    }\n",
       "\n",
       "    .dataframe tbody tr th {\n",
       "        vertical-align: top;\n",
       "    }\n",
       "\n",
       "    .dataframe thead th {\n",
       "        text-align: right;\n",
       "    }\n",
       "</style>\n",
       "<table border=\"1\" class=\"dataframe\">\n",
       "  <thead>\n",
       "    <tr style=\"text-align: right;\">\n",
       "      <th></th>\n",
       "      <th>год</th>\n",
       "      <th>неделя</th>\n",
       "      <th>Начало нед</th>\n",
       "      <th>Продажи, рубли</th>\n",
       "      <th>Продажи, упаковки</th>\n",
       "      <th>Продажи, рубли.1</th>\n",
       "      <th>раствор 0.01 % 150 мл N1, руб</th>\n",
       "      <th>раствор  0.01 % 50 мл N1, руб</th>\n",
       "      <th>раствор 0.01 % 500 мл N1, руб</th>\n",
       "      <th>раствор 0.01 % 150 мл N1, упаковки</th>\n",
       "      <th>...</th>\n",
       "      <th>Итого.11</th>\n",
       "      <th>ТВ, trp\\n(Ж 30-60 ВС).12</th>\n",
       "      <th>ТВ, охват 5+\\n(Ж 30-60 ВС).12</th>\n",
       "      <th>ТВ, рубли.12</th>\n",
       "      <th>Диджитал, руб.12</th>\n",
       "      <th>ТВ спонсорство, рубли.12</th>\n",
       "      <th>OOH, рубли.12</th>\n",
       "      <th>Радио, рубли.13</th>\n",
       "      <th>Итого.12</th>\n",
       "      <th>Unnamed: 147</th>\n",
       "    </tr>\n",
       "  </thead>\n",
       "  <tbody>\n",
       "    <tr>\n",
       "      <th>0</th>\n",
       "      <td>2019.0</td>\n",
       "      <td>1</td>\n",
       "      <td>2018-12-31</td>\n",
       "      <td>4.153557e+07</td>\n",
       "      <td>114621.15</td>\n",
       "      <td>0.0</td>\n",
       "      <td>0.0</td>\n",
       "      <td>0.0</td>\n",
       "      <td>0.0</td>\n",
       "      <td>0.0</td>\n",
       "      <td>...</td>\n",
       "      <td>1.183425e+07</td>\n",
       "      <td>207.903106</td>\n",
       "      <td>15.3615</td>\n",
       "      <td>9085528.010323</td>\n",
       "      <td>0.0</td>\n",
       "      <td>0.0</td>\n",
       "      <td>0.0</td>\n",
       "      <td>0.0</td>\n",
       "      <td>9.085528e+06</td>\n",
       "      <td>NaN</td>\n",
       "    </tr>\n",
       "    <tr>\n",
       "      <th>1</th>\n",
       "      <td>NaN</td>\n",
       "      <td>2</td>\n",
       "      <td>2019-01-07</td>\n",
       "      <td>5.122229e+07</td>\n",
       "      <td>141523.20</td>\n",
       "      <td>0.0</td>\n",
       "      <td>0.0</td>\n",
       "      <td>0.0</td>\n",
       "      <td>0.0</td>\n",
       "      <td>0.0</td>\n",
       "      <td>...</td>\n",
       "      <td>1.399653e+07</td>\n",
       "      <td>317.467542</td>\n",
       "      <td>25.5255</td>\n",
       "      <td>10599782.67871</td>\n",
       "      <td>0.0</td>\n",
       "      <td>0.0</td>\n",
       "      <td>0.0</td>\n",
       "      <td>0.0</td>\n",
       "      <td>1.059978e+07</td>\n",
       "      <td>NaN</td>\n",
       "    </tr>\n",
       "    <tr>\n",
       "      <th>2</th>\n",
       "      <td>NaN</td>\n",
       "      <td>3</td>\n",
       "      <td>2019-01-14</td>\n",
       "      <td>5.712735e+07</td>\n",
       "      <td>157926.30</td>\n",
       "      <td>0.0</td>\n",
       "      <td>0.0</td>\n",
       "      <td>0.0</td>\n",
       "      <td>0.0</td>\n",
       "      <td>0.0</td>\n",
       "      <td>...</td>\n",
       "      <td>1.146629e+07</td>\n",
       "      <td>192.816682</td>\n",
       "      <td>13.9125</td>\n",
       "      <td>10599782.67871</td>\n",
       "      <td>0.0</td>\n",
       "      <td>0.0</td>\n",
       "      <td>0.0</td>\n",
       "      <td>0.0</td>\n",
       "      <td>1.059978e+07</td>\n",
       "      <td>NaN</td>\n",
       "    </tr>\n",
       "  </tbody>\n",
       "</table>\n",
       "<p>3 rows × 148 columns</p>\n",
       "</div>"
      ],
      "text/plain": [
       "      год  неделя Начало нед  Продажи, рубли  Продажи, упаковки  \\\n",
       "0  2019.0       1 2018-12-31    4.153557e+07          114621.15   \n",
       "1     NaN       2 2019-01-07    5.122229e+07          141523.20   \n",
       "2     NaN       3 2019-01-14    5.712735e+07          157926.30   \n",
       "\n",
       "   Продажи, рубли.1  раствор 0.01 % 150 мл N1, руб  \\\n",
       "0               0.0                            0.0   \n",
       "1               0.0                            0.0   \n",
       "2               0.0                            0.0   \n",
       "\n",
       "   раствор  0.01 % 50 мл N1, руб  раствор 0.01 % 500 мл N1, руб  \\\n",
       "0                            0.0                            0.0   \n",
       "1                            0.0                            0.0   \n",
       "2                            0.0                            0.0   \n",
       "\n",
       "   раствор 0.01 % 150 мл N1, упаковки  ...      Итого.11  \\\n",
       "0                                 0.0  ...  1.183425e+07   \n",
       "1                                 0.0  ...  1.399653e+07   \n",
       "2                                 0.0  ...  1.146629e+07   \n",
       "\n",
       "   ТВ, trp\\n(Ж 30-60 ВС).12  ТВ, охват 5+\\n(Ж 30-60 ВС).12    ТВ, рубли.12  \\\n",
       "0                207.903106                        15.3615  9085528.010323   \n",
       "1                317.467542                        25.5255  10599782.67871   \n",
       "2                192.816682                        13.9125  10599782.67871   \n",
       "\n",
       "   Диджитал, руб.12  ТВ спонсорство, рубли.12  OOH, рубли.12  Радио, рубли.13  \\\n",
       "0               0.0                       0.0            0.0              0.0   \n",
       "1               0.0                       0.0            0.0              0.0   \n",
       "2               0.0                       0.0            0.0              0.0   \n",
       "\n",
       "       Итого.12 Unnamed: 147  \n",
       "0  9.085528e+06          NaN  \n",
       "1  1.059978e+07          NaN  \n",
       "2  1.059978e+07          NaN  \n",
       "\n",
       "[3 rows x 148 columns]"
      ]
     },
     "execution_count": 9,
     "metadata": {},
     "output_type": "execute_result"
    }
   ],
   "source": [
    "df.head(3)"
   ]
  },
  {
   "cell_type": "markdown",
   "id": "21a46c20-18c0-4958-88ce-46d869be2723",
   "metadata": {},
   "source": [
    "## Split on train/test data sets"
   ]
  },
  {
   "cell_type": "code",
   "execution_count": 28,
   "id": "255024fb-b200-4803-9767-72ad2dc3efc7",
   "metadata": {
    "tags": []
   },
   "outputs": [],
   "source": [
    "df_train = df.iloc[:244]\n",
    "df_submission = df.iloc[244:]"
   ]
  },
  {
   "cell_type": "markdown",
   "id": "02e9d181-2062-402f-a418-8a39874de9f0",
   "metadata": {},
   "source": [
    "## Save data"
   ]
  },
  {
   "cell_type": "code",
   "execution_count": 29,
   "id": "c0721177-4e70-40e5-8087-7116451daa16",
   "metadata": {
    "tags": []
   },
   "outputs": [],
   "source": [
    "df_train.to_csv('data/df_train.csv', index=False)\n",
    "df_submission.to_csv('data/df_submission.csv', index=False)"
   ]
  },
  {
   "cell_type": "markdown",
   "id": "1bf5719a-7a73-489e-97b1-6c98ffa1e8ec",
   "metadata": {},
   "source": [
    "---\n",
    "# Model train "
   ]
  },
  {
   "cell_type": "code",
   "execution_count": 30,
   "id": "e3a99e95-488a-4b3d-a583-685bc0735f8b",
   "metadata": {
    "tags": []
   },
   "outputs": [
    {
     "name": "stdout",
     "output_type": "stream",
     "text": [
      "Non-numerical columns:\n"
     ]
    },
    {
     "data": {
      "text/plain": [
       "['Начало нед',\n",
       " '(1)\\nТВ, trp\\n(Ж 30-60 ВС)',\n",
       " '(1)\\nТВ, рубли',\n",
       " '(3)\\nТВ, рубли',\n",
       " '(тотал)\\nТВ, рубли',\n",
       " 'ТВ, рубли.1',\n",
       " 'ТВ Рег, рубли',\n",
       " 'ТВ, trp\\n(Ж 30-60 ВС).3',\n",
       " 'ТВ, trp\\n(Ж 30-60 ВС).5',\n",
       " 'ТВ, рубли.5',\n",
       " 'ТВ, рубли.6',\n",
       " 'ТВ, рубли.8',\n",
       " 'ТВ, рубли.11',\n",
       " 'ТВ, рубли.12']"
      ]
     },
     "execution_count": 30,
     "metadata": {},
     "output_type": "execute_result"
    }
   ],
   "source": [
    "import pandas as pd\n",
    "\n",
    "# Load the dataset into a DataFrame\n",
    "data = df_train\n",
    "\n",
    "# Get the non-numerical columns\n",
    "non_numerical_columns = data.select_dtypes(exclude=['number']).columns.tolist()\n",
    "\n",
    "# Output the non-numerical column names\n",
    "print(\"Non-numerical columns:\")\n",
    "non_numeric_features = []\n",
    "\n",
    "for col in non_numerical_columns:\n",
    "    non_numeric_features.append(col)\n",
    "\n",
    "non_numeric_features"
   ]
  },
  {
   "cell_type": "code",
   "execution_count": 33,
   "id": "b9db2a3e-e875-41ce-af98-00a479451cd1",
   "metadata": {
    "tags": []
   },
   "outputs": [
    {
     "name": "stdout",
     "output_type": "stream",
     "text": [
      "Mean Absolute Percentage Error: 0.03890101026918674\n"
     ]
    }
   ],
   "source": [
    "import pandas as pd\n",
    "from sklearn.ensemble import RandomForestRegressor\n",
    "from sklearn.model_selection import train_test_split\n",
    "from sklearn.metrics import mean_absolute_percentage_error\n",
    "\n",
    "\n",
    "# Load the dataset\n",
    "data = df_train\n",
    "# Split features and target variable\n",
    "X = data.drop(non_numeric_features, axis=1).drop('Продажи, рубли', axis=1)\n",
    "y = data['Продажи, рубли']\n",
    "\n",
    "# X = X.fillna(0)\n",
    "\n",
    "# Split the data into training and testing sets\n",
    "X_train, X_test, y_train, y_test = train_test_split(X, y, test_size=0.2, random_state=42)\n",
    "\n",
    "# Initialize and train the Random Forest model\n",
    "rf_model = RandomForestRegressor(n_estimators=100, random_state=42)\n",
    "rf_model.fit(X_train, y_train)\n",
    "\n",
    "# Make predictions on the test set and evaluate the model using MAPE\n",
    "y_pred = rf_model.predict(X_test)\n",
    "mape = mean_absolute_percentage_error(y_test, y_pred)\n",
    "print(f'Mean Absolute Percentage Error: {mape}')\n"
   ]
  },
  {
   "cell_type": "markdown",
   "id": "12925683-1946-4de6-8fd1-78fa67ae85c4",
   "metadata": {},
   "source": [
    "---\n",
    "# Create submission"
   ]
  },
  {
   "cell_type": "markdown",
   "id": "22081d87-482f-465f-979b-35f4a2c53417",
   "metadata": {},
   "source": [
    "## Load data"
   ]
  },
  {
   "cell_type": "code",
   "execution_count": 35,
   "id": "b178e8dc-840b-4461-835e-89493e1d1623",
   "metadata": {
    "tags": []
   },
   "outputs": [
    {
     "data": {
      "text/html": [
       "<div>\n",
       "<style scoped>\n",
       "    .dataframe tbody tr th:only-of-type {\n",
       "        vertical-align: middle;\n",
       "    }\n",
       "\n",
       "    .dataframe tbody tr th {\n",
       "        vertical-align: top;\n",
       "    }\n",
       "\n",
       "    .dataframe thead th {\n",
       "        text-align: right;\n",
       "    }\n",
       "</style>\n",
       "<table border=\"1\" class=\"dataframe\">\n",
       "  <thead>\n",
       "    <tr style=\"text-align: right;\">\n",
       "      <th></th>\n",
       "      <th>год</th>\n",
       "      <th>неделя</th>\n",
       "      <th>Начало нед</th>\n",
       "      <th>Продажи, рубли</th>\n",
       "      <th>Продажи, упаковки</th>\n",
       "      <th>Продажи, рубли.1</th>\n",
       "      <th>раствор 0.01 % 150 мл N1, руб</th>\n",
       "      <th>раствор  0.01 % 50 мл N1, руб</th>\n",
       "      <th>раствор 0.01 % 500 мл N1, руб</th>\n",
       "      <th>раствор 0.01 % 150 мл N1, упаковки</th>\n",
       "      <th>...</th>\n",
       "      <th>Итого.11</th>\n",
       "      <th>ТВ, trp\\n(Ж 30-60 ВС).12</th>\n",
       "      <th>ТВ, охват 5+\\n(Ж 30-60 ВС).12</th>\n",
       "      <th>ТВ, рубли.12</th>\n",
       "      <th>Диджитал, руб.12</th>\n",
       "      <th>ТВ спонсорство, рубли.12</th>\n",
       "      <th>OOH, рубли.12</th>\n",
       "      <th>Радио, рубли.13</th>\n",
       "      <th>Итого.12</th>\n",
       "      <th>Unnamed: 147</th>\n",
       "    </tr>\n",
       "  </thead>\n",
       "  <tbody>\n",
       "    <tr>\n",
       "      <th>0</th>\n",
       "      <td>NaN</td>\n",
       "      <td>36</td>\n",
       "      <td>2023-09-04</td>\n",
       "      <td>NaN</td>\n",
       "      <td>NaN</td>\n",
       "      <td>NaN</td>\n",
       "      <td>NaN</td>\n",
       "      <td>NaN</td>\n",
       "      <td>NaN</td>\n",
       "      <td>NaN</td>\n",
       "      <td>...</td>\n",
       "      <td>NaN</td>\n",
       "      <td>NaN</td>\n",
       "      <td>NaN</td>\n",
       "      <td>NaN</td>\n",
       "      <td>NaN</td>\n",
       "      <td>NaN</td>\n",
       "      <td>NaN</td>\n",
       "      <td>NaN</td>\n",
       "      <td>NaN</td>\n",
       "      <td>NaN</td>\n",
       "    </tr>\n",
       "    <tr>\n",
       "      <th>1</th>\n",
       "      <td>NaN</td>\n",
       "      <td>37</td>\n",
       "      <td>2023-09-11</td>\n",
       "      <td>NaN</td>\n",
       "      <td>NaN</td>\n",
       "      <td>NaN</td>\n",
       "      <td>NaN</td>\n",
       "      <td>NaN</td>\n",
       "      <td>NaN</td>\n",
       "      <td>NaN</td>\n",
       "      <td>...</td>\n",
       "      <td>NaN</td>\n",
       "      <td>NaN</td>\n",
       "      <td>NaN</td>\n",
       "      <td>NaN</td>\n",
       "      <td>NaN</td>\n",
       "      <td>NaN</td>\n",
       "      <td>NaN</td>\n",
       "      <td>NaN</td>\n",
       "      <td>NaN</td>\n",
       "      <td>NaN</td>\n",
       "    </tr>\n",
       "    <tr>\n",
       "      <th>2</th>\n",
       "      <td>NaN</td>\n",
       "      <td>38</td>\n",
       "      <td>2023-09-18</td>\n",
       "      <td>NaN</td>\n",
       "      <td>NaN</td>\n",
       "      <td>NaN</td>\n",
       "      <td>NaN</td>\n",
       "      <td>NaN</td>\n",
       "      <td>NaN</td>\n",
       "      <td>NaN</td>\n",
       "      <td>...</td>\n",
       "      <td>NaN</td>\n",
       "      <td>NaN</td>\n",
       "      <td>NaN</td>\n",
       "      <td>NaN</td>\n",
       "      <td>NaN</td>\n",
       "      <td>NaN</td>\n",
       "      <td>NaN</td>\n",
       "      <td>NaN</td>\n",
       "      <td>NaN</td>\n",
       "      <td>NaN</td>\n",
       "    </tr>\n",
       "  </tbody>\n",
       "</table>\n",
       "<p>3 rows × 148 columns</p>\n",
       "</div>"
      ],
      "text/plain": [
       "   год  неделя  Начало нед  Продажи, рубли  Продажи, упаковки  \\\n",
       "0  NaN      36  2023-09-04             NaN                NaN   \n",
       "1  NaN      37  2023-09-11             NaN                NaN   \n",
       "2  NaN      38  2023-09-18             NaN                NaN   \n",
       "\n",
       "   Продажи, рубли.1  раствор 0.01 % 150 мл N1, руб  \\\n",
       "0               NaN                            NaN   \n",
       "1               NaN                            NaN   \n",
       "2               NaN                            NaN   \n",
       "\n",
       "   раствор  0.01 % 50 мл N1, руб  раствор 0.01 % 500 мл N1, руб  \\\n",
       "0                            NaN                            NaN   \n",
       "1                            NaN                            NaN   \n",
       "2                            NaN                            NaN   \n",
       "\n",
       "   раствор 0.01 % 150 мл N1, упаковки  ...  Итого.11  \\\n",
       "0                                 NaN  ...       NaN   \n",
       "1                                 NaN  ...       NaN   \n",
       "2                                 NaN  ...       NaN   \n",
       "\n",
       "   ТВ, trp\\n(Ж 30-60 ВС).12  ТВ, охват 5+\\n(Ж 30-60 ВС).12  ТВ, рубли.12  \\\n",
       "0                       NaN                            NaN           NaN   \n",
       "1                       NaN                            NaN           NaN   \n",
       "2                       NaN                            NaN           NaN   \n",
       "\n",
       "   Диджитал, руб.12  ТВ спонсорство, рубли.12  OOH, рубли.12  Радио, рубли.13  \\\n",
       "0               NaN                       NaN            NaN              NaN   \n",
       "1               NaN                       NaN            NaN              NaN   \n",
       "2               NaN                       NaN            NaN              NaN   \n",
       "\n",
       "   Итого.12  Unnamed: 147  \n",
       "0       NaN           NaN  \n",
       "1       NaN           NaN  \n",
       "2       NaN           NaN  \n",
       "\n",
       "[3 rows x 148 columns]"
      ]
     },
     "execution_count": 35,
     "metadata": {},
     "output_type": "execute_result"
    }
   ],
   "source": [
    "df_submission = pd.read_csv('data/df_submission.csv')\n",
    "df_submission.head(3)"
   ]
  },
  {
   "cell_type": "markdown",
   "id": "0697f47b-6776-49b1-ba15-5584c229bd4a",
   "metadata": {},
   "source": [
    "# Predict data"
   ]
  },
  {
   "cell_type": "code",
   "execution_count": 39,
   "id": "97ee6156-2a8d-418d-be7e-251206e74134",
   "metadata": {
    "tags": []
   },
   "outputs": [],
   "source": [
    "df_submission['Продажи, рубли'] = rf_model.predict(df_submission.drop(non_numeric_features, axis=1).drop('Продажи, рубли', axis=1))"
   ]
  },
  {
   "cell_type": "code",
   "execution_count": 42,
   "id": "35474027-8655-44dc-80eb-6aca810af79b",
   "metadata": {
    "tags": []
   },
   "outputs": [
    {
     "data": {
      "text/html": [
       "<div>\n",
       "<style scoped>\n",
       "    .dataframe tbody tr th:only-of-type {\n",
       "        vertical-align: middle;\n",
       "    }\n",
       "\n",
       "    .dataframe tbody tr th {\n",
       "        vertical-align: top;\n",
       "    }\n",
       "\n",
       "    .dataframe thead th {\n",
       "        text-align: right;\n",
       "    }\n",
       "</style>\n",
       "<table border=\"1\" class=\"dataframe\">\n",
       "  <thead>\n",
       "    <tr style=\"text-align: right;\">\n",
       "      <th></th>\n",
       "      <th>week</th>\n",
       "      <th>revenue</th>\n",
       "    </tr>\n",
       "  </thead>\n",
       "  <tbody>\n",
       "    <tr>\n",
       "      <th>0</th>\n",
       "      <td>2023-09-04</td>\n",
       "      <td>5.986805e+07</td>\n",
       "    </tr>\n",
       "    <tr>\n",
       "      <th>1</th>\n",
       "      <td>2023-09-11</td>\n",
       "      <td>5.986805e+07</td>\n",
       "    </tr>\n",
       "    <tr>\n",
       "      <th>2</th>\n",
       "      <td>2023-09-18</td>\n",
       "      <td>5.986805e+07</td>\n",
       "    </tr>\n",
       "    <tr>\n",
       "      <th>3</th>\n",
       "      <td>2023-09-25</td>\n",
       "      <td>5.986805e+07</td>\n",
       "    </tr>\n",
       "    <tr>\n",
       "      <th>4</th>\n",
       "      <td>2023-10-02</td>\n",
       "      <td>5.986805e+07</td>\n",
       "    </tr>\n",
       "  </tbody>\n",
       "</table>\n",
       "</div>"
      ],
      "text/plain": [
       "         week       revenue\n",
       "0  2023-09-04  5.986805e+07\n",
       "1  2023-09-11  5.986805e+07\n",
       "2  2023-09-18  5.986805e+07\n",
       "3  2023-09-25  5.986805e+07\n",
       "4  2023-10-02  5.986805e+07"
      ]
     },
     "execution_count": 42,
     "metadata": {},
     "output_type": "execute_result"
    }
   ],
   "source": [
    "df_submission = df_submission[['Начало нед', 'Продажи, рубли']]\n",
    "df_submission.rename(columns={'Начало нед': 'week', 'Продажи, рубли': 'revenue'}, inplace=True)\n",
    "df_submission.head(5)"
   ]
  },
  {
   "cell_type": "markdown",
   "id": "bf1aff68-9619-4953-b286-50c465f6a8b1",
   "metadata": {},
   "source": [
    "# Save data"
   ]
  },
  {
   "cell_type": "code",
   "execution_count": null,
   "id": "ea2b61e4-2732-419f-b506-d41e0cbd52a0",
   "metadata": {},
   "outputs": [],
   "source": [
    "df_train.to_csv('data/submission.csv', index=False)"
   ]
  }
 ],
 "metadata": {
  "kernelspec": {
   "display_name": "PyTorch",
   "language": "python",
   "name": "pytorch"
  },
  "language_info": {
   "codemirror_mode": {
    "name": "ipython",
    "version": 3
   },
   "file_extension": ".py",
   "mimetype": "text/x-python",
   "name": "python",
   "nbconvert_exporter": "python",
   "pygments_lexer": "ipython3",
   "version": "3.12.2"
  }
 },
 "nbformat": 4,
 "nbformat_minor": 5
}
